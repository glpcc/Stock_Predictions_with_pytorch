{
 "cells": [
  {
   "cell_type": "code",
   "execution_count": 12,
   "metadata": {},
   "outputs": [
    {
     "data": {
      "text/plain": [
       "3431    1023.099976\n",
       "3432    1020.039978\n",
       "3433    1030.260010\n",
       "3434    1032.000000\n",
       "3435    1031.469971\n",
       "Name: Open, dtype: float64"
      ]
     },
     "execution_count": 12,
     "metadata": {},
     "output_type": "execute_result"
    }
   ],
   "source": [
    "import pandas as pd\n",
    "\n",
    "# Load the csv data as a pandas dataframe\n",
    "google_stock_df = pd.read_csv('datasets/GOOGL.csv')\n",
    "\n",
    "open_price_data = google_stock_df['Open']\n",
    "\n",
    "# Separate into train a test data\n",
    "train_data = open_price_data[:-1000]\n",
    "test_data = open_price_data[-1000:]\n",
    "\n"
   ]
  },
  {
   "cell_type": "code",
   "execution_count": 10,
   "metadata": {},
   "outputs": [],
   "source": [
    "from SMRNN import SMRNN\n",
    "from torch import optim\n",
    "import torch.nn as nn\n",
    "# Create the network optimizer and loss function\n",
    "net = SMRNN(inputs = 1, outputs = 1, inner_state_size = 3,net1_inner_topology = [7,10,20,10,5,2], net2_inner_topology = [7,15,30,50],net3_inner_topology = [7,5,3])\n",
    "optimizer = optim.Adam(net.parameters(),lr=0.01)\n",
    "loss = nn.MSELoss()"
   ]
  },
  {
   "cell_type": "code",
   "execution_count": null,
   "metadata": {},
   "outputs": [],
   "source": [
    "import random\n",
    "\n",
    "# train the network (in this case only with the open price)\n",
    "epochs = 100\n",
    "# the batch sizes will be random to let the model to learn in diferent lengths\n",
    "max_batch_size = 20\n",
    "min_batch_size = 5\n",
    "for epoch in range(epochs):\n",
    "    batch_size = random.randint(5,20)\n",
    "    train_index = random.randint(0,train_data.size - max_batch_size - 2)\n",
    "    "
   ]
  }
 ],
 "metadata": {
  "kernelspec": {
   "display_name": "Python 3.10.4 64-bit",
   "language": "python",
   "name": "python3"
  },
  "language_info": {
   "codemirror_mode": {
    "name": "ipython",
    "version": 3
   },
   "file_extension": ".py",
   "mimetype": "text/x-python",
   "name": "python",
   "nbconvert_exporter": "python",
   "pygments_lexer": "ipython3",
   "version": "3.10.4"
  },
  "orig_nbformat": 4,
  "vscode": {
   "interpreter": {
    "hash": "25b967826fee24da2569b50746cf9fa4067dc6cfa635a17c8da9080146180dfa"
   }
  }
 },
 "nbformat": 4,
 "nbformat_minor": 2
}
